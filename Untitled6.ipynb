{
  "nbformat": 4,
  "nbformat_minor": 0,
  "metadata": {
    "colab": {
      "provenance": [],
      "authorship_tag": "ABX9TyP4aYA0xpso0jcOp55ggZeW",
      "include_colab_link": true
    },
    "kernelspec": {
      "name": "python3",
      "display_name": "Python 3"
    },
    "language_info": {
      "name": "python"
    }
  },
  "cells": [
    {
      "cell_type": "markdown",
      "metadata": {
        "id": "view-in-github",
        "colab_type": "text"
      },
      "source": [
        "<a href=\"https://colab.research.google.com/github/Twinkle-gawri/Mini-Project-2/blob/main/Untitled6.ipynb\" target=\"_parent\"><img src=\"https://colab.research.google.com/assets/colab-badge.svg\" alt=\"Open In Colab\"/></a>"
      ]
    },
    {
      "cell_type": "markdown",
      "source": [
        "# **ComboFinder**\n",
        "**Problem Statement:**\n",
        "Find all the list of products whose sum-of-price is between 290 and 310.\n",
        "\n",
        "ProductList = {p1:10, p2:15, p3:20, p4:25, p5:30, p6:35, p7:50}"
      ],
      "metadata": {
        "id": "Cx2xgkLih6cY"
      }
    },
    {
      "cell_type": "markdown",
      "source": [
        "#  **1 Library inclusion**"
      ],
      "metadata": {
        "id": "CsMrG_hbiOIG"
      }
    },
    {
      "cell_type": "code",
      "source": [
        "import random as r\n"
      ],
      "metadata": {
        "id": "kqs3lsmLiXDR"
      },
      "execution_count": 1,
      "outputs": []
    },
    {
      "cell_type": "markdown",
      "source": [
        "# **2 Parameter Setting**"
      ],
      "metadata": {
        "id": "4Bq7OVcMihy1"
      }
    },
    {
      "cell_type": "code",
      "source": [
        "ProductList = {'p1':10, 'p2':15, 'p3':20, 'p4':25, 'p5':30, 'p6':35, 'p7':50,\n",
        "               'p8':40, 'p9':55, 'p10':60, 'p11':65, 'p12':75, 'p13':70,\n",
        "               'p14':45}\n",
        "LB          = 290\n",
        "UB          = 310\n",
        "ResultList  = set()   # Store Result List i.e. list of sets whose sum is between 90 and 210.\n",
        "Iterations  = 1000    # Number of Inerations"
      ],
      "metadata": {
        "id": "qpCypWqlipiz"
      },
      "execution_count": 2,
      "outputs": []
    },
    {
      "cell_type": "markdown",
      "source": [
        "# **Single Run**"
      ],
      "metadata": {
        "id": "3Eq0hSeWixs9"
      }
    },
    {
      "cell_type": "code",
      "source": [
        "# Select combo size (i.e. number of products in a combo)\n",
        "SetSize = r.randint(2, len(ProductList)-1)\n",
        "print(\"Number of Product: \", SetSize)\n",
        "\n",
        "\n",
        "# Select number of elements from Set\n",
        "ComboList = r.sample(list(ProductList.keys()),SetSize)\n",
        "print(\"Product List     : \", ComboList)\n",
        "\n",
        "\n",
        "# Sum the products in ColboList\n",
        "ComboSum = sum([ ProductList[i] for i in ComboList])\n",
        "print(\"Sum of Product   : \", ComboSum)"
      ],
      "metadata": {
        "colab": {
          "base_uri": "https://localhost:8080/"
        },
        "id": "81GJS8fajByL",
        "outputId": "24be5365-bbfd-43e3-cdf6-fb645d92dc45"
      },
      "execution_count": 3,
      "outputs": [
        {
          "output_type": "stream",
          "name": "stdout",
          "text": [
            "Number of Product:  11\n",
            "Product List     :  ['p7', 'p5', 'p2', 'p11', 'p13', 'p8', 'p1', 'p12', 'p9', 'p14', 'p10']\n",
            "Sum of Product   :  515\n"
          ]
        }
      ]
    },
    {
      "cell_type": "markdown",
      "source": [
        "# **3 Start Program**"
      ],
      "metadata": {
        "id": "UU-uNx9wjFzW"
      }
    },
    {
      "cell_type": "code",
      "source": [
        "# Loop till number of Iterations\n",
        "ResultList  = set()\n",
        "\n",
        "for i in range(Iterations):\n",
        "\n",
        "    # Select combo size (i.e. number of products in a combo)\n",
        "    SetSize = r.randint(2, len(ProductList)-1)\n",
        "\n",
        "    # Select number of elements from Set\n",
        "    ComboList = r.sample(list(ProductList.keys()),SetSize)\n",
        "\n",
        "    # Sum the products in ColboList\n",
        "    ComboSum = sum([ ProductList[i] for i in ComboList])\n",
        "    \n",
        "    # Check the Sum Between LB and UB\n",
        "    if ComboSum>= LB and ComboSum<= UB:\n",
        "      ResultList.add(tuple(ComboList))\n",
        "\n",
        "print(\"Done\")"
      ],
      "metadata": {
        "colab": {
          "base_uri": "https://localhost:8080/"
        },
        "id": "YtsPDCm3jPhW",
        "outputId": "45764b3d-8d68-4b18-f92a-264c62c733e9"
      },
      "execution_count": 4,
      "outputs": [
        {
          "output_type": "stream",
          "name": "stdout",
          "text": [
            "Done\n"
          ]
        }
      ]
    },
    {
      "cell_type": "markdown",
      "source": [
        "# **4 Print the comboLists and total count**"
      ],
      "metadata": {
        "id": "FvMUpJDbjUmc"
      }
    },
    {
      "cell_type": "code",
      "source": [
        "# Print all the sets whose sum is between LB and UB\n",
        "for r in ResultList:\n",
        "\tprint (r)\n",
        "\n",
        "# Print total sets\n",
        "print (\"\\nTotal Sets: \", len(ResultList), \"\\n\")"
      ],
      "metadata": {
        "colab": {
          "base_uri": "https://localhost:8080/"
        },
        "id": "vxok6kvNjgKO",
        "outputId": "f7e612e2-5c67-487d-ecd6-bd6d8390ccac"
      },
      "execution_count": 5,
      "outputs": [
        {
          "output_type": "stream",
          "name": "stdout",
          "text": [
            "('p11', 'p12', 'p1', 'p4', 'p8', 'p10', 'p2')\n",
            "('p6', 'p3', 'p1', 'p12', 'p2', 'p8', 'p4', 'p9', 'p5')\n",
            "('p2', 'p5', 'p6', 'p12', 'p7', 'p13', 'p1', 'p3')\n",
            "('p8', 'p6', 'p12', 'p13', 'p2', 'p4', 'p14')\n",
            "('p8', 'p11', 'p6', 'p3', 'p1', 'p9', 'p14', 'p5')\n",
            "('p10', 'p2', 'p5', 'p11', 'p14', 'p3', 'p9')\n",
            "('p1', 'p10', 'p9', 'p3', 'p5', 'p6', 'p13', 'p4')\n",
            "('p4', 'p8', 'p13', 'p7', 'p12', 'p6')\n",
            "('p13', 'p1', 'p12', 'p7', 'p4', 'p3', 'p8')\n",
            "('p14', 'p11', 'p6', 'p4', 'p7', 'p8', 'p5', 'p2')\n",
            "('p4', 'p8', 'p14', 'p12', 'p5', 'p1', 'p7', 'p3')\n",
            "('p6', 'p2', 'p8', 'p12', 'p10', 'p4', 'p14')\n",
            "('p3', 'p12', 'p10', 'p1', 'p7', 'p4', 'p8', 'p2')\n",
            "('p12', 'p7', 'p4', 'p10', 'p9', 'p6')\n",
            "('p6', 'p7', 'p2', 'p14', 'p5', 'p9', 'p13')\n",
            "('p6', 'p9', 'p13', 'p1', 'p11', 'p14', 'p5')\n",
            "('p6', 'p7', 'p12', 'p5', 'p10', 'p8')\n",
            "('p12', 'p13', 'p7', 'p11', 'p8', 'p1')\n",
            "('p4', 'p7', 'p3', 'p13', 'p11', 'p10')\n",
            "('p12', 'p6', 'p4', 'p10', 'p3', 'p14', 'p7')\n",
            "('p10', 'p11', 'p14', 'p7', 'p8', 'p1', 'p2', 'p3')\n",
            "('p3', 'p10', 'p8', 'p9', 'p6', 'p12', 'p4')\n",
            "('p2', 'p5', 'p14', 'p4', 'p12', 'p1', 'p7', 'p10')\n",
            "('p3', 'p7', 'p2', 'p5', 'p10', 'p14', 'p12')\n",
            "('p6', 'p14', 'p12', 'p13', 'p9', 'p5')\n",
            "('p10', 'p8', 'p1', 'p11', 'p14', 'p3', 'p9', 'p2')\n",
            "('p3', 'p6', 'p8', 'p11', 'p4', 'p9', 'p10')\n",
            "('p6', 'p10', 'p7', 'p14', 'p11', 'p2', 'p5')\n",
            "('p14', 'p9', 'p6', 'p4', 'p5', 'p13', 'p1', 'p8')\n",
            "('p8', 'p1', 'p13', 'p7', 'p5', 'p14', 'p11')\n",
            "('p4', 'p12', 'p9', 'p10', 'p11', 'p1')\n",
            "('p6', 'p1', 'p8', 'p11', 'p12', 'p9', 'p4')\n",
            "('p13', 'p5', 'p8', 'p3', 'p1', 'p12', 'p4', 'p6')\n",
            "('p11', 'p2', 'p14', 'p8', 'p10', 'p5', 'p3', 'p6')\n",
            "('p1', 'p10', 'p11', 'p4', 'p13', 'p8', 'p6')\n",
            "('p11', 'p13', 'p12', 'p1', 'p2', 'p9')\n",
            "('p2', 'p3', 'p4', 'p5', 'p12', 'p6', 'p14', 'p9')\n",
            "('p13', 'p2', 'p12', 'p7', 'p5', 'p14', 'p3')\n",
            "('p6', 'p1', 'p12', 'p11', 'p7', 'p4', 'p8')\n",
            "('p3', 'p13', 'p5', 'p4', 'p1', 'p8', 'p14', 'p11')\n",
            "('p10', 'p1', 'p2', 'p12', 'p14', 'p9', 'p8')\n",
            "('p3', 'p2', 'p14', 'p10', 'p13', 'p8', 'p5', 'p1')\n",
            "('p1', 'p7', 'p8', 'p10', 'p3', 'p13', 'p9')\n",
            "('p9', 'p10', 'p14', 'p1', 'p6', 'p7', 'p8')\n",
            "('p2', 'p5', 'p14', 'p7', 'p1', 'p9', 'p10', 'p4')\n",
            "('p2', 'p10', 'p3', 'p9', 'p12', 'p11', 'p1')\n",
            "('p13', 'p5', 'p10', 'p8', 'p11', 'p14')\n",
            "('p3', 'p14', 'p13', 'p10', 'p5', 'p2', 'p9')\n",
            "('p1', 'p11', 'p9', 'p13', 'p3', 'p5', 'p4', 'p6')\n",
            "('p8', 'p1', 'p7', 'p6', 'p9', 'p5', 'p12')\n",
            "\n",
            "Total Sets:  50 \n",
            "\n"
          ]
        }
      ]
    },
    {
      "cell_type": "markdown",
      "source": [
        "# **5 Complete Program with sorting**"
      ],
      "metadata": {
        "id": "eT0izZb_jlOd"
      }
    },
    {
      "cell_type": "code",
      "source": [
        "#-------------------------------------------------------------\n",
        "# Step 1: Library inclusion                             \n",
        "#-------------------------------------------------------------\n",
        "import random as r\n",
        "\n",
        "\n",
        "#-------------------------------------------------------------\n",
        "# Step 2: Parameter Setting\n",
        "#-------------------------------------------------------------\n",
        "ProductList = {'p1':10, 'p2':15, 'p3':20, 'p4':25, 'p5':30, 'p6':35, 'p7':50,\n",
        "               'p8':40, 'p9':55, 'p10':60, 'p11':65, 'p12':75, 'p13':70,\n",
        "               'p14':45}\n",
        "LB          = 290\n",
        "UB          = 310\n",
        "ResultList  = set()   # Store Result List i.e. list of sets whose sum is between 90 and 210.\n",
        "Iterations  = 1000    # Number of Inerations\n",
        "\n",
        "\n",
        "#-------------------------------------------------------------\n",
        "# Step3: Start Program\n",
        "#-------------------------------------------------------------\n",
        "for i in range(Iterations):\n",
        "\n",
        "    # Select combo size (i.e. number of products in a combo)\n",
        "    SetSize = r.randint(2, len(ProductList)-1)\n",
        "\n",
        "    # Select number of elements from Set\n",
        "    ComboList = r.sample(list(ProductList.keys()),SetSize)\n",
        "    ComboList.sort()\n",
        "\n",
        "    # Sum the products in ColboList\n",
        "    ComboSum = sum([ ProductList[i] for i in ComboList])\n",
        "\n",
        "    # Check the Sum Between LB and UB\n",
        "    if ComboSum>= LB and ComboSum<= UB:\n",
        "      ResultList.add(tuple(ComboList))\n",
        "\n",
        "\n",
        "# Print all the sets whose sum is between LB and UB\n",
        "for r in ResultList:\n",
        "\tprint (r)\n",
        "\n",
        "# Print total sets\n",
        "print (\"\\nTotal Sets: \", len(ResultList), \"\\n\")\n"
      ],
      "metadata": {
        "colab": {
          "base_uri": "https://localhost:8080/"
        },
        "id": "s1ggieIqjrTk",
        "outputId": "159813d1-aa4e-4c3a-face-5ef0436cc180"
      },
      "execution_count": 6,
      "outputs": [
        {
          "output_type": "stream",
          "name": "stdout",
          "text": [
            "('p1', 'p10', 'p11', 'p14', 'p2', 'p4', 'p6', 'p9')\n",
            "('p1', 'p10', 'p12', 'p14', 'p5', 'p6', 'p8')\n",
            "('p1', 'p11', 'p12', 'p13', 'p2', 'p5', 'p6')\n",
            "('p1', 'p11', 'p3', 'p5', 'p6', 'p7', 'p8', 'p9')\n",
            "('p1', 'p10', 'p13', 'p14', 'p2', 'p3', 'p5', 'p7')\n",
            "('p1', 'p11', 'p13', 'p3', 'p6', 'p7', 'p8')\n",
            "('p1', 'p10', 'p12', 'p14', 'p2', 'p4', 'p5', 'p7')\n",
            "('p13', 'p14', 'p3', 'p4', 'p6', 'p8', 'p9')\n",
            "('p10', 'p11', 'p12', 'p14', 'p3', 'p5')\n",
            "('p1', 'p11', 'p14', 'p4', 'p7', 'p8', 'p9')\n",
            "('p1', 'p10', 'p11', 'p12', 'p14', 'p8')\n",
            "('p1', 'p11', 'p13', 'p14', 'p2', 'p3', 'p5', 'p9')\n",
            "('p11', 'p13', 'p2', 'p4', 'p5', 'p6', 'p9')\n",
            "('p1', 'p11', 'p12', 'p2', 'p3', 'p5', 'p6', 'p7')\n",
            "('p1', 'p12', 'p13', 'p2', 'p4', 'p5', 'p6', 'p8')\n",
            "('p12', 'p13', 'p14', 'p7', 'p9')\n",
            "('p10', 'p12', 'p4', 'p5', 'p7', 'p9')\n",
            "('p10', 'p13', 'p14', 'p5', 'p7', 'p9')\n",
            "('p1', 'p10', 'p13', 'p14', 'p4', 'p8', 'p9')\n",
            "('p1', 'p10', 'p13', 'p5', 'p6', 'p8', 'p9')\n",
            "('p11', 'p14', 'p2', 'p3', 'p4', 'p5', 'p6', 'p9')\n",
            "('p1', 'p11', 'p12', 'p14', 'p3', 'p5', 'p9')\n",
            "('p1', 'p11', 'p14', 'p6', 'p7', 'p8', 'p9')\n",
            "('p1', 'p10', 'p11', 'p14', 'p2', 'p3', 'p4', 'p7')\n",
            "('p10', 'p12', 'p13', 'p8', 'p9')\n",
            "('p1', 'p12', 'p14', 'p3', 'p5', 'p6', 'p7', 'p8')\n",
            "('p1', 'p12', 'p13', 'p4', 'p6', 'p7', 'p8')\n",
            "('p1', 'p11', 'p12', 'p14', 'p7', 'p9')\n",
            "('p1', 'p11', 'p13', 'p4', 'p6', 'p7', 'p9')\n",
            "('p1', 'p10', 'p11', 'p2', 'p7', 'p8', 'p9')\n",
            "('p10', 'p13', 'p14', 'p5', 'p6', 'p9')\n",
            "('p1', 'p11', 'p12', 'p14', 'p3', 'p6', 'p9')\n",
            "('p1', 'p11', 'p14', 'p2', 'p3', 'p4', 'p5', 'p6', 'p7')\n",
            "('p1', 'p10', 'p11', 'p2', 'p3', 'p5', 'p8', 'p9')\n",
            "('p1', 'p11', 'p12', 'p2', 'p3', 'p4', 'p5', 'p7')\n",
            "('p1', 'p11', 'p13', 'p4', 'p6', 'p8', 'p9')\n",
            "('p10', 'p14', 'p3', 'p4', 'p6', 'p7', 'p9')\n",
            "('p11', 'p12', 'p5', 'p6', 'p7', 'p8')\n",
            "('p1', 'p10', 'p11', 'p12', 'p13', 'p4')\n",
            "('p1', 'p11', 'p13', 'p2', 'p3', 'p4', 'p5', 'p6', 'p8')\n",
            "('p1', 'p10', 'p11', 'p12', 'p2', 'p3', 'p7')\n",
            "('p1', 'p10', 'p13', 'p2', 'p3', 'p6', 'p8', 'p9')\n",
            "('p11', 'p14', 'p3', 'p4', 'p6', 'p7', 'p9')\n",
            "('p1', 'p10', 'p13', 'p14', 'p7', 'p9')\n",
            "('p10', 'p13', 'p4', 'p6', 'p7', 'p9')\n",
            "('p1', 'p11', 'p14', 'p3', 'p4', 'p5', 'p8', 'p9')\n",
            "('p11', 'p12', 'p14', 'p3', 'p5', 'p6', 'p8')\n",
            "('p10', 'p12', 'p14', 'p2', 'p3', 'p6', 'p9')\n",
            "('p1', 'p12', 'p14', 'p2', 'p4', 'p5', 'p7', 'p8')\n",
            "('p1', 'p10', 'p12', 'p3', 'p6', 'p7', 'p8')\n",
            "('p10', 'p11', 'p13', 'p14', 'p2', 'p3', 'p4')\n",
            "('p10', 'p12', 'p14', 'p2', 'p3', 'p8', 'p9')\n",
            "('p10', 'p13', 'p6', 'p7', 'p8', 'p9')\n",
            "('p13', 'p14', 'p2', 'p5', 'p7', 'p8', 'p9')\n",
            "('p1', 'p12', 'p13', 'p2', 'p6', 'p7', 'p9')\n",
            "('p1', 'p10', 'p11', 'p4', 'p5', 'p7', 'p9')\n",
            "('p1', 'p10', 'p13', 'p14', 'p3', 'p8', 'p9')\n",
            "('p1', 'p11', 'p13', 'p14', 'p3', 'p7', 'p8')\n",
            "('p1', 'p11', 'p12', 'p13', 'p14', 'p3', 'p4')\n",
            "('p10', 'p13', 'p2', 'p4', 'p6', 'p7', 'p9')\n",
            "('p1', 'p10', 'p13', 'p14', 'p3', 'p6', 'p9')\n",
            "('p1', 'p10', 'p12', 'p13', 'p5', 'p9')\n",
            "('p10', 'p12', 'p13', 'p14', 'p2', 'p4')\n",
            "\n",
            "Total Sets:  63 \n",
            "\n"
          ]
        }
      ]
    }
  ]
}